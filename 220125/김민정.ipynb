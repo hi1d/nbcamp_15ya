{
  "nbformat": 4,
  "nbformat_minor": 0,
  "metadata": {
    "colab": {
      "name": "김민정.ipynb",
      "provenance": [],
      "authorship_tag": "ABX9TyM8ey7rozEIU2k4keZEMELX"
    },
    "kernelspec": {
      "name": "python3",
      "display_name": "Python 3"
    },
    "language_info": {
      "name": "python"
    }
  },
  "cells": [
    {
      "cell_type": "markdown",
      "source": [
        "# 핸드폰 번호 가리기\n",
        "https://programmers.co.kr/learn/courses/30/lessons/12948\n",
        "\n",
        "\n"
      ],
      "metadata": {
        "id": "-TWKKiRA5KI_"
      }
    },
    {
      "cell_type": "code",
      "source": [
        "def solution(phone_number):\n",
        "    count = len(phone_number[:-4])\n",
        "    answer = '*'*count + phone_number[-4:]\n",
        "    return answer"
      ],
      "metadata": {
        "id": "XiMm4pcx5PhE"
      },
      "execution_count": null,
      "outputs": []
    }
  ]
}